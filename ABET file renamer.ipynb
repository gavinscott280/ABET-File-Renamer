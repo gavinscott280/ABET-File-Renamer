{
 "cells": [
  {
   "cell_type": "code",
   "execution_count": null,
   "id": "be895be3",
   "metadata": {},
   "outputs": [],
   "source": [
    "import os\n",
    "import pandas as pd\n",
    "\n",
    "# Specify the folder containing the CSV files\n",
    "folder_path = 'C:/FILE PATH HERE'\n",
    "\n",
    "# Loop through all files in the specified folder\n",
    "for filename in os.listdir(folder_path):\n",
    "    if filename.endswith('.csv'):\n",
    "        file_path = os.path.join(folder_path, filename)\n",
    "\n",
    "        # Attempt to read the CSV file\n",
    "        try:\n",
    "            df = pd.read_csv(file_path, on_bad_lines='skip')  # Skip bad lines\n",
    "\n",
    "            # Get the values from B12 and B21 (remembering that Pandas is 0-indexed)\n",
    "            name_part = df.iloc[10, 1]  # B12\n",
    "            date_part = df.iloc[19, 1]  # B21\n",
    "\n",
    "            # Convert the date_part to datetime and format to day_month\n",
    "            date_part = pd.to_datetime(date_part).strftime('%d_%m')  # Format as DD_MM\n",
    "\n",
    "            # Create the new file name\n",
    "            new_filename = f\"{name_part}_{date_part}.csv\"\n",
    "            new_file_path = os.path.join(folder_path, new_filename)\n",
    "\n",
    "            # Rename the file\n",
    "            os.rename(file_path, new_file_path)\n",
    "            print(f'Renamed: {filename} to {new_filename}')\n",
    "\n",
    "        except pd.errors.ParserError:\n",
    "            print(f'Parser error in file: {filename}. Skipping this file.')\n",
    "        except IndexError:\n",
    "            print(f'Error reading {filename}: Ensure it has enough rows and columns.')\n",
    "        except Exception as e:\n",
    "            print(f'An error occurred with {filename}: {e}')"
   ]
  }
 ],
 "metadata": {
  "kernelspec": {
   "display_name": "Python 3 (ipykernel)",
   "language": "python",
   "name": "python3"
  },
  "language_info": {
   "codemirror_mode": {
    "name": "ipython",
    "version": 3
   },
   "file_extension": ".py",
   "mimetype": "text/x-python",
   "name": "python",
   "nbconvert_exporter": "python",
   "pygments_lexer": "ipython3",
   "version": "3.9.18"
  }
 },
 "nbformat": 4,
 "nbformat_minor": 5
}
